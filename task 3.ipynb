{
 "cells": [
  {
   "cell_type": "code",
   "execution_count": 2,
   "id": "bef028f0",
   "metadata": {},
   "outputs": [
    {
     "name": "stdout",
     "output_type": "stream",
     "text": [
      "Collecting chatterbot\n",
      "  Downloading chatterbot-1.2.4-py3-none-any.whl.metadata (7.0 kB)\n",
      "Collecting chatterbot_corpus\n",
      "  Downloading chatterbot_corpus-1.2.2-py2.py3-none-any.whl.metadata (1.1 kB)\n",
      "Collecting mathparse<0.2,>=0.1 (from chatterbot)\n",
      "  Downloading mathparse-0.1.2-py3-none-any.whl.metadata (776 bytes)\n",
      "Collecting python-dateutil<2.10,>=2.9 (from chatterbot)\n",
      "  Using cached python_dateutil-2.9.0.post0-py2.py3-none-any.whl.metadata (8.4 kB)\n",
      "Requirement already satisfied: sqlalchemy<2.1,>=2.0 in c:\\users\\sumit\\anaconda3\\lib\\site-packages (from chatterbot) (2.0.25)\n",
      "Collecting spacy<3.9,>=3.8 (from chatterbot)\n",
      "  Downloading spacy-3.8.5-cp311-cp311-win_amd64.whl.metadata (28 kB)\n",
      "Requirement already satisfied: tqdm in c:\\users\\sumit\\anaconda3\\lib\\site-packages (from chatterbot) (4.65.0)\n",
      "Requirement already satisfied: six>=1.5 in c:\\users\\sumit\\anaconda3\\lib\\site-packages (from python-dateutil<2.10,>=2.9->chatterbot) (1.16.0)\n",
      "Collecting spacy-legacy<3.1.0,>=3.0.11 (from spacy<3.9,>=3.8->chatterbot)\n",
      "  Downloading spacy_legacy-3.0.12-py2.py3-none-any.whl.metadata (2.8 kB)\n",
      "Collecting spacy-loggers<2.0.0,>=1.0.0 (from spacy<3.9,>=3.8->chatterbot)\n",
      "  Downloading spacy_loggers-1.0.5-py3-none-any.whl.metadata (23 kB)\n",
      "Collecting murmurhash<1.1.0,>=0.28.0 (from spacy<3.9,>=3.8->chatterbot)\n",
      "  Downloading murmurhash-1.0.12-cp311-cp311-win_amd64.whl.metadata (2.2 kB)\n",
      "Collecting cymem<2.1.0,>=2.0.2 (from spacy<3.9,>=3.8->chatterbot)\n",
      "  Downloading cymem-2.0.11-cp311-cp311-win_amd64.whl.metadata (8.8 kB)\n",
      "Collecting preshed<3.1.0,>=3.0.2 (from spacy<3.9,>=3.8->chatterbot)\n",
      "  Downloading preshed-3.0.9-cp311-cp311-win_amd64.whl.metadata (2.2 kB)\n",
      "Collecting thinc<8.4.0,>=8.3.4 (from spacy<3.9,>=3.8->chatterbot)\n",
      "  Downloading thinc-8.3.4-cp311-cp311-win_amd64.whl.metadata (15 kB)\n",
      "Collecting wasabi<1.2.0,>=0.9.1 (from spacy<3.9,>=3.8->chatterbot)\n",
      "  Downloading wasabi-1.1.3-py3-none-any.whl.metadata (28 kB)\n",
      "Collecting srsly<3.0.0,>=2.4.3 (from spacy<3.9,>=3.8->chatterbot)\n",
      "  Downloading srsly-2.5.1-cp311-cp311-win_amd64.whl.metadata (20 kB)\n",
      "Collecting catalogue<2.1.0,>=2.0.6 (from spacy<3.9,>=3.8->chatterbot)\n",
      "  Downloading catalogue-2.0.10-py3-none-any.whl.metadata (14 kB)\n",
      "Collecting weasel<0.5.0,>=0.1.0 (from spacy<3.9,>=3.8->chatterbot)\n",
      "  Downloading weasel-0.4.1-py3-none-any.whl.metadata (4.6 kB)\n",
      "Collecting typer<1.0.0,>=0.3.0 (from spacy<3.9,>=3.8->chatterbot)\n",
      "  Downloading typer-0.15.2-py3-none-any.whl.metadata (15 kB)\n",
      "Requirement already satisfied: numpy>=1.19.0 in c:\\users\\sumit\\anaconda3\\lib\\site-packages (from spacy<3.9,>=3.8->chatterbot) (1.26.4)\n",
      "Requirement already satisfied: requests<3.0.0,>=2.13.0 in c:\\users\\sumit\\anaconda3\\lib\\site-packages (from spacy<3.9,>=3.8->chatterbot) (2.31.0)\n",
      "Requirement already satisfied: pydantic!=1.8,!=1.8.1,<3.0.0,>=1.7.4 in c:\\users\\sumit\\anaconda3\\lib\\site-packages (from spacy<3.9,>=3.8->chatterbot) (2.7.4)\n",
      "Requirement already satisfied: jinja2 in c:\\users\\sumit\\anaconda3\\lib\\site-packages (from spacy<3.9,>=3.8->chatterbot) (3.1.3)\n",
      "Requirement already satisfied: setuptools in c:\\users\\sumit\\anaconda3\\lib\\site-packages (from spacy<3.9,>=3.8->chatterbot) (75.8.0)\n",
      "Requirement already satisfied: packaging>=20.0 in c:\\users\\sumit\\anaconda3\\lib\\site-packages (from spacy<3.9,>=3.8->chatterbot) (23.1)\n",
      "Collecting langcodes<4.0.0,>=3.2.0 (from spacy<3.9,>=3.8->chatterbot)\n",
      "  Downloading langcodes-3.5.0-py3-none-any.whl.metadata (29 kB)\n",
      "Requirement already satisfied: typing-extensions>=4.6.0 in c:\\users\\sumit\\anaconda3\\lib\\site-packages (from sqlalchemy<2.1,>=2.0->chatterbot) (4.12.2)\n",
      "Requirement already satisfied: greenlet!=0.4.17 in c:\\users\\sumit\\anaconda3\\lib\\site-packages (from sqlalchemy<2.1,>=2.0->chatterbot) (3.0.1)\n",
      "Requirement already satisfied: colorama in c:\\users\\sumit\\anaconda3\\lib\\site-packages (from tqdm->chatterbot) (0.4.6)\n",
      "Collecting language-data>=1.2 (from langcodes<4.0.0,>=3.2.0->spacy<3.9,>=3.8->chatterbot)\n",
      "  Downloading language_data-1.3.0-py3-none-any.whl.metadata (4.3 kB)\n",
      "Requirement already satisfied: annotated-types>=0.4.0 in c:\\users\\sumit\\anaconda3\\lib\\site-packages (from pydantic!=1.8,!=1.8.1,<3.0.0,>=1.7.4->spacy<3.9,>=3.8->chatterbot) (0.7.0)\n",
      "Requirement already satisfied: pydantic-core==2.18.4 in c:\\users\\sumit\\anaconda3\\lib\\site-packages (from pydantic!=1.8,!=1.8.1,<3.0.0,>=1.7.4->spacy<3.9,>=3.8->chatterbot) (2.18.4)\n",
      "Requirement already satisfied: charset-normalizer<4,>=2 in c:\\users\\sumit\\anaconda3\\lib\\site-packages (from requests<3.0.0,>=2.13.0->spacy<3.9,>=3.8->chatterbot) (2.0.4)\n",
      "Requirement already satisfied: idna<4,>=2.5 in c:\\users\\sumit\\anaconda3\\lib\\site-packages (from requests<3.0.0,>=2.13.0->spacy<3.9,>=3.8->chatterbot) (3.4)\n",
      "Requirement already satisfied: urllib3<3,>=1.21.1 in c:\\users\\sumit\\anaconda3\\lib\\site-packages (from requests<3.0.0,>=2.13.0->spacy<3.9,>=3.8->chatterbot) (2.0.7)\n",
      "Requirement already satisfied: certifi>=2017.4.17 in c:\\users\\sumit\\anaconda3\\lib\\site-packages (from requests<3.0.0,>=2.13.0->spacy<3.9,>=3.8->chatterbot) (2024.7.4)\n",
      "Collecting blis<1.3.0,>=1.2.0 (from thinc<8.4.0,>=8.3.4->spacy<3.9,>=3.8->chatterbot)\n",
      "  Downloading blis-1.2.1-cp311-cp311-win_amd64.whl.metadata (7.6 kB)\n",
      "Collecting confection<1.0.0,>=0.0.1 (from thinc<8.4.0,>=8.3.4->spacy<3.9,>=3.8->chatterbot)\n",
      "  Downloading confection-0.1.5-py3-none-any.whl.metadata (19 kB)\n",
      "Requirement already satisfied: click>=8.0.0 in c:\\users\\sumit\\anaconda3\\lib\\site-packages (from typer<1.0.0,>=0.3.0->spacy<3.9,>=3.8->chatterbot) (8.1.7)\n",
      "Collecting shellingham>=1.3.0 (from typer<1.0.0,>=0.3.0->spacy<3.9,>=3.8->chatterbot)\n",
      "  Downloading shellingham-1.5.4-py2.py3-none-any.whl.metadata (3.5 kB)\n",
      "Requirement already satisfied: rich>=10.11.0 in c:\\users\\sumit\\anaconda3\\lib\\site-packages (from typer<1.0.0,>=0.3.0->spacy<3.9,>=3.8->chatterbot) (13.3.5)\n",
      "Collecting cloudpathlib<1.0.0,>=0.7.0 (from weasel<0.5.0,>=0.1.0->spacy<3.9,>=3.8->chatterbot)\n",
      "  Downloading cloudpathlib-0.21.0-py3-none-any.whl.metadata (14 kB)\n",
      "Requirement already satisfied: smart-open<8.0.0,>=5.2.1 in c:\\users\\sumit\\anaconda3\\lib\\site-packages (from weasel<0.5.0,>=0.1.0->spacy<3.9,>=3.8->chatterbot) (5.2.1)\n",
      "Requirement already satisfied: MarkupSafe>=2.0 in c:\\users\\sumit\\anaconda3\\lib\\site-packages (from jinja2->spacy<3.9,>=3.8->chatterbot) (2.1.3)\n",
      "Collecting marisa-trie>=1.1.0 (from language-data>=1.2->langcodes<4.0.0,>=3.2.0->spacy<3.9,>=3.8->chatterbot)\n",
      "  Downloading marisa_trie-1.2.1-cp311-cp311-win_amd64.whl.metadata (9.3 kB)\n",
      "Requirement already satisfied: markdown-it-py<3.0.0,>=2.2.0 in c:\\users\\sumit\\anaconda3\\lib\\site-packages (from rich>=10.11.0->typer<1.0.0,>=0.3.0->spacy<3.9,>=3.8->chatterbot) (2.2.0)\n",
      "Requirement already satisfied: pygments<3.0.0,>=2.13.0 in c:\\users\\sumit\\anaconda3\\lib\\site-packages (from rich>=10.11.0->typer<1.0.0,>=0.3.0->spacy<3.9,>=3.8->chatterbot) (2.15.1)\n",
      "Requirement already satisfied: mdurl~=0.1 in c:\\users\\sumit\\anaconda3\\lib\\site-packages (from markdown-it-py<3.0.0,>=2.2.0->rich>=10.11.0->typer<1.0.0,>=0.3.0->spacy<3.9,>=3.8->chatterbot) (0.1.0)\n",
      "Downloading chatterbot-1.2.4-py3-none-any.whl (72 kB)\n",
      "Downloading chatterbot_corpus-1.2.2-py2.py3-none-any.whl (240 kB)\n",
      "Downloading mathparse-0.1.2-py3-none-any.whl (7.2 kB)\n",
      "Using cached python_dateutil-2.9.0.post0-py2.py3-none-any.whl (229 kB)\n",
      "Downloading spacy-3.8.5-cp311-cp311-win_amd64.whl (12.2 MB)\n",
      "   ---------------------------------------- 0.0/12.2 MB ? eta -:--:--\n",
      "    --------------------------------------- 0.3/12.2 MB ? eta -:--:--\n",
      "   - -------------------------------------- 0.5/12.2 MB 1.3 MB/s eta 0:00:10\n",
      "   -- ------------------------------------- 0.8/12.2 MB 1.3 MB/s eta 0:00:09\n",
      "   --- ------------------------------------ 1.0/12.2 MB 1.3 MB/s eta 0:00:09\n",
      "   ---- ----------------------------------- 1.3/12.2 MB 1.3 MB/s eta 0:00:09\n",
      "   ----- ---------------------------------- 1.6/12.2 MB 1.3 MB/s eta 0:00:09\n",
      "   ------ --------------------------------- 2.1/12.2 MB 1.4 MB/s eta 0:00:08\n",
      "   ------ --------------------------------- 2.1/12.2 MB 1.4 MB/s eta 0:00:08\n",
      "   -------- ------------------------------- 2.6/12.2 MB 1.4 MB/s eta 0:00:08\n",
      "   ---------- ----------------------------- 3.1/12.2 MB 1.5 MB/s eta 0:00:07\n",
      "   ----------- ---------------------------- 3.4/12.2 MB 1.5 MB/s eta 0:00:06\n",
      "   ------------ --------------------------- 3.9/12.2 MB 1.5 MB/s eta 0:00:06\n",
      "   ------------- -------------------------- 4.2/12.2 MB 1.5 MB/s eta 0:00:06\n",
      "   -------------- ------------------------- 4.5/12.2 MB 1.5 MB/s eta 0:00:06\n",
      "   ---------------- ----------------------- 5.0/12.2 MB 1.6 MB/s eta 0:00:05\n",
      "   ----------------- ---------------------- 5.2/12.2 MB 1.6 MB/s eta 0:00:05\n",
      "   ------------------ --------------------- 5.8/12.2 MB 1.6 MB/s eta 0:00:05\n",
      "   -------------------- ------------------- 6.3/12.2 MB 1.6 MB/s eta 0:00:04\n",
      "   --------------------- ------------------ 6.6/12.2 MB 1.6 MB/s eta 0:00:04\n",
      "   ---------------------- ----------------- 6.8/12.2 MB 1.6 MB/s eta 0:00:04\n",
      "   ------------------------ --------------- 7.3/12.2 MB 1.6 MB/s eta 0:00:03\n",
      "   ------------------------ --------------- 7.6/12.2 MB 1.6 MB/s eta 0:00:03\n",
      "   -------------------------- ------------- 8.1/12.2 MB 1.6 MB/s eta 0:00:03\n",
      "   --------------------------- ------------ 8.4/12.2 MB 1.6 MB/s eta 0:00:03\n",
      "   ----------------------------- ---------- 8.9/12.2 MB 1.7 MB/s eta 0:00:02\n",
      "   ------------------------------ --------- 9.2/12.2 MB 1.7 MB/s eta 0:00:02\n",
      "   ------------------------------- -------- 9.7/12.2 MB 1.7 MB/s eta 0:00:02\n",
      "   --------------------------------- ------ 10.2/12.2 MB 1.7 MB/s eta 0:00:02\n",
      "   ----------------------------------- ---- 10.7/12.2 MB 1.7 MB/s eta 0:00:01\n",
      "   ------------------------------------ --- 11.3/12.2 MB 1.7 MB/s eta 0:00:01\n",
      "   ------------------------------------- -- 11.5/12.2 MB 1.8 MB/s eta 0:00:01\n",
      "   ---------------------------------------  12.1/12.2 MB 1.8 MB/s eta 0:00:01\n",
      "   ---------------------------------------- 12.2/12.2 MB 1.7 MB/s eta 0:00:00\n",
      "Downloading catalogue-2.0.10-py3-none-any.whl (17 kB)\n",
      "Downloading cymem-2.0.11-cp311-cp311-win_amd64.whl (39 kB)\n",
      "Downloading langcodes-3.5.0-py3-none-any.whl (182 kB)\n",
      "Downloading murmurhash-1.0.12-cp311-cp311-win_amd64.whl (25 kB)\n",
      "Downloading preshed-3.0.9-cp311-cp311-win_amd64.whl (122 kB)\n",
      "Downloading spacy_legacy-3.0.12-py2.py3-none-any.whl (29 kB)\n",
      "Downloading spacy_loggers-1.0.5-py3-none-any.whl (22 kB)\n",
      "Downloading srsly-2.5.1-cp311-cp311-win_amd64.whl (632 kB)\n",
      "   ---------------------------------------- 0.0/632.6 kB ? eta -:--:--\n",
      "   ---------------- ----------------------- 262.1/632.6 kB ? eta -:--:--\n",
      "   ---------------------------------------- 632.6/632.6 kB 1.6 MB/s eta 0:00:00\n",
      "Downloading thinc-8.3.4-cp311-cp311-win_amd64.whl (1.5 MB)\n",
      "   ---------------------------------------- 0.0/1.5 MB ? eta -:--:--\n",
      "   ------- -------------------------------- 0.3/1.5 MB ? eta -:--:--\n",
      "   -------------- ------------------------- 0.5/1.5 MB 1.3 MB/s eta 0:00:01\n",
      "   --------------------- ------------------ 0.8/1.5 MB 1.3 MB/s eta 0:00:01\n",
      "   ---------------------------- ----------- 1.0/1.5 MB 1.4 MB/s eta 0:00:01\n",
      "   ---------------------------------------- 1.5/1.5 MB 1.4 MB/s eta 0:00:00\n",
      "Downloading typer-0.15.2-py3-none-any.whl (45 kB)\n",
      "Downloading wasabi-1.1.3-py3-none-any.whl (27 kB)\n",
      "Downloading weasel-0.4.1-py3-none-any.whl (50 kB)\n",
      "Downloading blis-1.2.1-cp311-cp311-win_amd64.whl (6.2 MB)\n",
      "   ---------------------------------------- 0.0/6.2 MB ? eta -:--:--\n",
      "   - -------------------------------------- 0.3/6.2 MB ? eta -:--:--\n",
      "   --- ------------------------------------ 0.5/6.2 MB 2.8 MB/s eta 0:00:03\n",
      "   ------ --------------------------------- 1.0/6.2 MB 2.0 MB/s eta 0:00:03\n",
      "   ---------- ----------------------------- 1.6/6.2 MB 2.1 MB/s eta 0:00:03\n",
      "   ----------- ---------------------------- 1.8/6.2 MB 2.0 MB/s eta 0:00:03\n",
      "   ------------- -------------------------- 2.1/6.2 MB 1.9 MB/s eta 0:00:03\n",
      "   ---------------- ----------------------- 2.6/6.2 MB 1.9 MB/s eta 0:00:02\n",
      "   ------------------ --------------------- 2.9/6.2 MB 1.8 MB/s eta 0:00:02\n",
      "   --------------------- ------------------ 3.4/6.2 MB 1.9 MB/s eta 0:00:02\n",
      "   ----------------------- ---------------- 3.7/6.2 MB 1.8 MB/s eta 0:00:02\n",
      "   -------------------------- ------------- 4.2/6.2 MB 1.9 MB/s eta 0:00:02\n",
      "   ---------------------------- ----------- 4.5/6.2 MB 1.9 MB/s eta 0:00:01\n",
      "   ------------------------------- -------- 5.0/6.2 MB 1.9 MB/s eta 0:00:01\n",
      "   --------------------------------- ------ 5.2/6.2 MB 1.8 MB/s eta 0:00:01\n",
      "   ----------------------------------- ---- 5.5/6.2 MB 1.8 MB/s eta 0:00:01\n",
      "   -------------------------------------- - 6.0/6.2 MB 1.8 MB/s eta 0:00:01\n",
      "   ---------------------------------------- 6.2/6.2 MB 1.8 MB/s eta 0:00:00\n",
      "Downloading cloudpathlib-0.21.0-py3-none-any.whl (52 kB)\n",
      "Downloading confection-0.1.5-py3-none-any.whl (35 kB)\n",
      "Downloading language_data-1.3.0-py3-none-any.whl (5.4 MB)\n",
      "   ---------------------------------------- 0.0/5.4 MB ? eta -:--:--\n",
      "   - -------------------------------------- 0.3/5.4 MB ? eta -:--:--\n",
      "   --- ------------------------------------ 0.5/5.4 MB 1.7 MB/s eta 0:00:03\n",
      "   ------- -------------------------------- 1.0/5.4 MB 1.6 MB/s eta 0:00:03\n",
      "   --------- ------------------------------ 1.3/5.4 MB 1.7 MB/s eta 0:00:03\n",
      "   ------------- -------------------------- 1.8/5.4 MB 1.8 MB/s eta 0:00:02\n",
      "   ------------- -------------------------- 1.8/5.4 MB 1.8 MB/s eta 0:00:02\n",
      "   --------------- ------------------------ 2.1/5.4 MB 1.4 MB/s eta 0:00:03\n",
      "   ------------------- -------------------- 2.6/5.4 MB 1.5 MB/s eta 0:00:02\n",
      "   --------------------- ------------------ 2.9/5.4 MB 1.5 MB/s eta 0:00:02\n",
      "   ----------------------- ---------------- 3.1/5.4 MB 1.5 MB/s eta 0:00:02\n",
      "   ------------------------- -------------- 3.4/5.4 MB 1.5 MB/s eta 0:00:02\n",
      "   ----------------------------- ---------- 3.9/5.4 MB 1.5 MB/s eta 0:00:01\n",
      "   ------------------------------- -------- 4.2/5.4 MB 1.5 MB/s eta 0:00:01\n",
      "   --------------------------------- ------ 4.5/5.4 MB 1.5 MB/s eta 0:00:01\n",
      "   ------------------------------------ --- 5.0/5.4 MB 1.5 MB/s eta 0:00:01\n",
      "   -------------------------------------- - 5.2/5.4 MB 1.6 MB/s eta 0:00:01\n",
      "   ---------------------------------------- 5.4/5.4 MB 1.5 MB/s eta 0:00:00\n",
      "Downloading shellingham-1.5.4-py2.py3-none-any.whl (9.8 kB)\n",
      "Downloading marisa_trie-1.2.1-cp311-cp311-win_amd64.whl (152 kB)\n",
      "Installing collected packages: mathparse, cymem, chatterbot_corpus, wasabi, spacy-loggers, spacy-legacy, shellingham, python-dateutil, murmurhash, marisa-trie, cloudpathlib, catalogue, blis, srsly, preshed, language-data, typer, langcodes, confection, weasel, thinc, spacy, chatterbot\n",
      "  Attempting uninstall: python-dateutil\n",
      "    Found existing installation: python-dateutil 2.8.2\n",
      "    Uninstalling python-dateutil-2.8.2:\n",
      "      Successfully uninstalled python-dateutil-2.8.2\n",
      "Successfully installed blis-1.2.1 catalogue-2.0.10 chatterbot-1.2.4 chatterbot_corpus-1.2.2 cloudpathlib-0.21.0 confection-0.1.5 cymem-2.0.11 langcodes-3.5.0 language-data-1.3.0 marisa-trie-1.2.1 mathparse-0.1.2 murmurhash-1.0.12 preshed-3.0.9 python-dateutil-2.9.0.post0 shellingham-1.5.4 spacy-3.8.5 spacy-legacy-3.0.12 spacy-loggers-1.0.5 srsly-2.5.1 thinc-8.3.4 typer-0.15.2 wasabi-1.1.3 weasel-0.4.1\n"
     ]
    },
    {
     "name": "stderr",
     "output_type": "stream",
     "text": [
      "ERROR: pip's dependency resolver does not currently take into account all the packages that are installed. This behaviour is the source of the following dependency conflicts.\n",
      "conda-repo-cli 1.0.75 requires requests_mock, which is not installed.\n",
      "conda-repo-cli 1.0.75 requires clyent==1.2.1, but you have clyent 1.2.2 which is incompatible.\n",
      "conda-repo-cli 1.0.75 requires python-dateutil==2.8.2, but you have python-dateutil 2.9.0.post0 which is incompatible.\n",
      "pandas-profiling 3.2.0 requires visions[type_image_path]==0.7.4, but you have visions 0.7.6 which is incompatible.\n",
      "\n",
      "[notice] A new release of pip is available: 25.0 -> 25.0.1\n",
      "[notice] To update, run: python.exe -m pip install --upgrade pip\n"
     ]
    }
   ],
   "source": [
    "!pip install chatterbot chatterbot_corpus\n"
   ]
  },
  {
   "cell_type": "code",
   "execution_count": 3,
   "id": "2b570fcd",
   "metadata": {},
   "outputs": [],
   "source": [
    "import pandas as pd\n",
    "import numpy as np\n",
    "import re\n",
    "import nltk\n",
    "from nltk.corpus import stopwords\n",
    "from nltk.tokenize import word_tokenize\n",
    "from nltk.stem import WordNetLemmatizer\n",
    "from sklearn.model_selection import train_test_split\n",
    "from sklearn.feature_extraction.text import TfidfVectorizer\n",
    "from sklearn.ensemble import RandomForestClassifier\n",
    "from sklearn.naive_bayes import MultinomialNB\n",
    "from sklearn.metrics import accuracy_score, classification_report, confusion_matrix\n",
    "import seaborn as sns\n",
    "import matplotlib.pyplot as plt\n",
    "from chatterbot import ChatBot\n",
    "from chatterbot.trainers import ChatterBotCorpusTrainer\n",
    "import ollama"
   ]
  },
  {
   "cell_type": "code",
   "execution_count": 4,
   "id": "051094c6",
   "metadata": {},
   "outputs": [],
   "source": [
    "df = pd.read_csv('resume_data.csv')"
   ]
  },
  {
   "cell_type": "code",
   "execution_count": 5,
   "id": "6e9681f2",
   "metadata": {},
   "outputs": [
    {
     "data": {
      "text/html": [
       "<div>\n",
       "<style scoped>\n",
       "    .dataframe tbody tr th:only-of-type {\n",
       "        vertical-align: middle;\n",
       "    }\n",
       "\n",
       "    .dataframe tbody tr th {\n",
       "        vertical-align: top;\n",
       "    }\n",
       "\n",
       "    .dataframe thead th {\n",
       "        text-align: right;\n",
       "    }\n",
       "</style>\n",
       "<table border=\"1\" class=\"dataframe\">\n",
       "  <thead>\n",
       "    <tr style=\"text-align: right;\">\n",
       "      <th></th>\n",
       "      <th>Category</th>\n",
       "      <th>Resume</th>\n",
       "    </tr>\n",
       "  </thead>\n",
       "  <tbody>\n",
       "    <tr>\n",
       "      <th>0</th>\n",
       "      <td>Data Science</td>\n",
       "      <td>Skills * Programming Languages: Python (pandas...</td>\n",
       "    </tr>\n",
       "    <tr>\n",
       "      <th>1</th>\n",
       "      <td>Data Science</td>\n",
       "      <td>Education Details \\r\\nMay 2013 to May 2017 B.E...</td>\n",
       "    </tr>\n",
       "    <tr>\n",
       "      <th>2</th>\n",
       "      <td>Data Science</td>\n",
       "      <td>Areas of Interest Deep Learning, Control Syste...</td>\n",
       "    </tr>\n",
       "    <tr>\n",
       "      <th>3</th>\n",
       "      <td>Data Science</td>\n",
       "      <td>Skills â¢ R â¢ Python â¢ SAP HANA â¢ Table...</td>\n",
       "    </tr>\n",
       "    <tr>\n",
       "      <th>4</th>\n",
       "      <td>Data Science</td>\n",
       "      <td>Education Details \\r\\n MCA   YMCAUST,  Faridab...</td>\n",
       "    </tr>\n",
       "  </tbody>\n",
       "</table>\n",
       "</div>"
      ],
      "text/plain": [
       "       Category                                             Resume\n",
       "0  Data Science  Skills * Programming Languages: Python (pandas...\n",
       "1  Data Science  Education Details \\r\\nMay 2013 to May 2017 B.E...\n",
       "2  Data Science  Areas of Interest Deep Learning, Control Syste...\n",
       "3  Data Science  Skills â¢ R â¢ Python â¢ SAP HANA â¢ Table...\n",
       "4  Data Science  Education Details \\r\\n MCA   YMCAUST,  Faridab..."
      ]
     },
     "execution_count": 5,
     "metadata": {},
     "output_type": "execute_result"
    }
   ],
   "source": [
    "df.head()"
   ]
  },
  {
   "cell_type": "code",
   "execution_count": 6,
   "id": "c711bcb6",
   "metadata": {},
   "outputs": [
    {
     "name": "stdout",
     "output_type": "stream",
     "text": [
      "<class 'pandas.core.frame.DataFrame'>\n",
      "RangeIndex: 962 entries, 0 to 961\n",
      "Data columns (total 2 columns):\n",
      " #   Column    Non-Null Count  Dtype \n",
      "---  ------    --------------  ----- \n",
      " 0   Category  962 non-null    object\n",
      " 1   Resume    962 non-null    object\n",
      "dtypes: object(2)\n",
      "memory usage: 15.2+ KB\n"
     ]
    }
   ],
   "source": [
    "df.info()"
   ]
  },
  {
   "cell_type": "code",
   "execution_count": 7,
   "id": "1fd71f67",
   "metadata": {},
   "outputs": [
    {
     "data": {
      "text/plain": [
       "Category    0\n",
       "Resume      0\n",
       "dtype: int64"
      ]
     },
     "execution_count": 7,
     "metadata": {},
     "output_type": "execute_result"
    }
   ],
   "source": [
    "df.isnull().sum()"
   ]
  },
  {
   "cell_type": "code",
   "execution_count": 9,
   "id": "dbb7a6f6",
   "metadata": {},
   "outputs": [
    {
     "data": {
      "text/html": [
       "<div>\n",
       "<style scoped>\n",
       "    .dataframe tbody tr th:only-of-type {\n",
       "        vertical-align: middle;\n",
       "    }\n",
       "\n",
       "    .dataframe tbody tr th {\n",
       "        vertical-align: top;\n",
       "    }\n",
       "\n",
       "    .dataframe thead th {\n",
       "        text-align: right;\n",
       "    }\n",
       "</style>\n",
       "<table border=\"1\" class=\"dataframe\">\n",
       "  <thead>\n",
       "    <tr style=\"text-align: right;\">\n",
       "      <th></th>\n",
       "      <th>Category</th>\n",
       "      <th>Resume</th>\n",
       "    </tr>\n",
       "  </thead>\n",
       "  <tbody>\n",
       "    <tr>\n",
       "      <th>count</th>\n",
       "      <td>962</td>\n",
       "      <td>962</td>\n",
       "    </tr>\n",
       "    <tr>\n",
       "      <th>unique</th>\n",
       "      <td>25</td>\n",
       "      <td>166</td>\n",
       "    </tr>\n",
       "    <tr>\n",
       "      <th>top</th>\n",
       "      <td>Java Developer</td>\n",
       "      <td>Technical Skills Web Technologies: Angular JS,...</td>\n",
       "    </tr>\n",
       "    <tr>\n",
       "      <th>freq</th>\n",
       "      <td>84</td>\n",
       "      <td>18</td>\n",
       "    </tr>\n",
       "  </tbody>\n",
       "</table>\n",
       "</div>"
      ],
      "text/plain": [
       "              Category                                             Resume\n",
       "count              962                                                962\n",
       "unique              25                                                166\n",
       "top     Java Developer  Technical Skills Web Technologies: Angular JS,...\n",
       "freq                84                                                 18"
      ]
     },
     "execution_count": 9,
     "metadata": {},
     "output_type": "execute_result"
    }
   ],
   "source": [
    "df.describe()"
   ]
  },
  {
   "cell_type": "code",
   "execution_count": 10,
   "id": "93bd0160",
   "metadata": {},
   "outputs": [
    {
     "name": "stderr",
     "output_type": "stream",
     "text": [
      "[nltk_data] Downloading package stopwords to\n",
      "[nltk_data]     C:\\Users\\sumit\\AppData\\Roaming\\nltk_data...\n",
      "[nltk_data]   Package stopwords is already up-to-date!\n",
      "[nltk_data] Downloading package punkt to\n",
      "[nltk_data]     C:\\Users\\sumit\\AppData\\Roaming\\nltk_data...\n",
      "[nltk_data]   Package punkt is already up-to-date!\n",
      "[nltk_data] Downloading package wordnet to\n",
      "[nltk_data]     C:\\Users\\sumit\\AppData\\Roaming\\nltk_data...\n",
      "[nltk_data]   Package wordnet is already up-to-date!\n"
     ]
    },
    {
     "data": {
      "text/plain": [
       "True"
      ]
     },
     "execution_count": 10,
     "metadata": {},
     "output_type": "execute_result"
    }
   ],
   "source": [
    "nltk.download('stopwords')\n",
    "nltk.download('punkt')\n",
    "nltk.download('wordnet')\n"
   ]
  },
  {
   "cell_type": "code",
   "execution_count": 11,
   "id": "800e0674",
   "metadata": {},
   "outputs": [],
   "source": [
    "lemmatizer = WordNetLemmatizer()\n",
    "stop_words = set(stopwords.words('english'))"
   ]
  },
  {
   "cell_type": "code",
   "execution_count": 12,
   "id": "f26386b9",
   "metadata": {},
   "outputs": [],
   "source": [
    "def preprocess_text(text):\n",
    "    text = re.sub(r'[^a-zA-Z]', ' ', text)  # Remove special characters\n",
    "    text = text.lower()  # Convert to lowercase\n",
    "    words = word_tokenize(text)  # Tokenization\n",
    "    words = [lemmatizer.lemmatize(word) for word in words if word not in stop_words]  # Lemmatization\n",
    "    return ' '.join(words)\n"
   ]
  },
  {
   "cell_type": "code",
   "execution_count": 13,
   "id": "78987fa2",
   "metadata": {},
   "outputs": [],
   "source": [
    "df['cleaned_resume'] = df['Resume'].apply(preprocess_text)"
   ]
  },
  {
   "cell_type": "code",
   "execution_count": 14,
   "id": "17a62f41",
   "metadata": {},
   "outputs": [],
   "source": [
    "vectorizer = TfidfVectorizer(max_features=5000)\n",
    "X = vectorizer.fit_transform(df['cleaned_resume']).toarray()\n",
    "y = df['Category']\n",
    "\n",
    "\n",
    "X_train, X_test, y_train, y_test = train_test_split(X, y, test_size=0.2, random_state=42)\n"
   ]
  },
  {
   "cell_type": "code",
   "execution_count": 15,
   "id": "a9c7a7fd",
   "metadata": {},
   "outputs": [
    {
     "data": {
      "text/html": [
       "<style>#sk-container-id-1 {color: black;background-color: white;}#sk-container-id-1 pre{padding: 0;}#sk-container-id-1 div.sk-toggleable {background-color: white;}#sk-container-id-1 label.sk-toggleable__label {cursor: pointer;display: block;width: 100%;margin-bottom: 0;padding: 0.3em;box-sizing: border-box;text-align: center;}#sk-container-id-1 label.sk-toggleable__label-arrow:before {content: \"▸\";float: left;margin-right: 0.25em;color: #696969;}#sk-container-id-1 label.sk-toggleable__label-arrow:hover:before {color: black;}#sk-container-id-1 div.sk-estimator:hover label.sk-toggleable__label-arrow:before {color: black;}#sk-container-id-1 div.sk-toggleable__content {max-height: 0;max-width: 0;overflow: hidden;text-align: left;background-color: #f0f8ff;}#sk-container-id-1 div.sk-toggleable__content pre {margin: 0.2em;color: black;border-radius: 0.25em;background-color: #f0f8ff;}#sk-container-id-1 input.sk-toggleable__control:checked~div.sk-toggleable__content {max-height: 200px;max-width: 100%;overflow: auto;}#sk-container-id-1 input.sk-toggleable__control:checked~label.sk-toggleable__label-arrow:before {content: \"▾\";}#sk-container-id-1 div.sk-estimator input.sk-toggleable__control:checked~label.sk-toggleable__label {background-color: #d4ebff;}#sk-container-id-1 div.sk-label input.sk-toggleable__control:checked~label.sk-toggleable__label {background-color: #d4ebff;}#sk-container-id-1 input.sk-hidden--visually {border: 0;clip: rect(1px 1px 1px 1px);clip: rect(1px, 1px, 1px, 1px);height: 1px;margin: -1px;overflow: hidden;padding: 0;position: absolute;width: 1px;}#sk-container-id-1 div.sk-estimator {font-family: monospace;background-color: #f0f8ff;border: 1px dotted black;border-radius: 0.25em;box-sizing: border-box;margin-bottom: 0.5em;}#sk-container-id-1 div.sk-estimator:hover {background-color: #d4ebff;}#sk-container-id-1 div.sk-parallel-item::after {content: \"\";width: 100%;border-bottom: 1px solid gray;flex-grow: 1;}#sk-container-id-1 div.sk-label:hover label.sk-toggleable__label {background-color: #d4ebff;}#sk-container-id-1 div.sk-serial::before {content: \"\";position: absolute;border-left: 1px solid gray;box-sizing: border-box;top: 0;bottom: 0;left: 50%;z-index: 0;}#sk-container-id-1 div.sk-serial {display: flex;flex-direction: column;align-items: center;background-color: white;padding-right: 0.2em;padding-left: 0.2em;position: relative;}#sk-container-id-1 div.sk-item {position: relative;z-index: 1;}#sk-container-id-1 div.sk-parallel {display: flex;align-items: stretch;justify-content: center;background-color: white;position: relative;}#sk-container-id-1 div.sk-item::before, #sk-container-id-1 div.sk-parallel-item::before {content: \"\";position: absolute;border-left: 1px solid gray;box-sizing: border-box;top: 0;bottom: 0;left: 50%;z-index: -1;}#sk-container-id-1 div.sk-parallel-item {display: flex;flex-direction: column;z-index: 1;position: relative;background-color: white;}#sk-container-id-1 div.sk-parallel-item:first-child::after {align-self: flex-end;width: 50%;}#sk-container-id-1 div.sk-parallel-item:last-child::after {align-self: flex-start;width: 50%;}#sk-container-id-1 div.sk-parallel-item:only-child::after {width: 0;}#sk-container-id-1 div.sk-dashed-wrapped {border: 1px dashed gray;margin: 0 0.4em 0.5em 0.4em;box-sizing: border-box;padding-bottom: 0.4em;background-color: white;}#sk-container-id-1 div.sk-label label {font-family: monospace;font-weight: bold;display: inline-block;line-height: 1.2em;}#sk-container-id-1 div.sk-label-container {text-align: center;}#sk-container-id-1 div.sk-container {/* jupyter's `normalize.less` sets `[hidden] { display: none; }` but bootstrap.min.css set `[hidden] { display: none !important; }` so we also need the `!important` here to be able to override the default hidden behavior on the sphinx rendered scikit-learn.org. See: https://github.com/scikit-learn/scikit-learn/issues/21755 */display: inline-block !important;position: relative;}#sk-container-id-1 div.sk-text-repr-fallback {display: none;}</style><div id=\"sk-container-id-1\" class=\"sk-top-container\"><div class=\"sk-text-repr-fallback\"><pre>MultinomialNB()</pre><b>In a Jupyter environment, please rerun this cell to show the HTML representation or trust the notebook. <br />On GitHub, the HTML representation is unable to render, please try loading this page with nbviewer.org.</b></div><div class=\"sk-container\" hidden><div class=\"sk-item\"><div class=\"sk-estimator sk-toggleable\"><input class=\"sk-toggleable__control sk-hidden--visually\" id=\"sk-estimator-id-1\" type=\"checkbox\" checked><label for=\"sk-estimator-id-1\" class=\"sk-toggleable__label sk-toggleable__label-arrow\">MultinomialNB</label><div class=\"sk-toggleable__content\"><pre>MultinomialNB()</pre></div></div></div></div></div>"
      ],
      "text/plain": [
       "MultinomialNB()"
      ]
     },
     "execution_count": 15,
     "metadata": {},
     "output_type": "execute_result"
    }
   ],
   "source": [
    "rf_model = RandomForestClassifier(n_estimators=100, random_state=42)\n",
    "nb_model = MultinomialNB()\n",
    "\n",
    "rf_model.fit(X_train, y_train)\n",
    "nb_model.fit(X_train, y_train)\n"
   ]
  },
  {
   "cell_type": "code",
   "execution_count": 16,
   "id": "f9541762",
   "metadata": {},
   "outputs": [],
   "source": [
    "y_pred_rf = rf_model.predict(X_test)\n",
    "y_pred_nb = nb_model.predict(X_test)"
   ]
  },
  {
   "cell_type": "code",
   "execution_count": 19,
   "id": "c6622e89",
   "metadata": {},
   "outputs": [
    {
     "name": "stdout",
     "output_type": "stream",
     "text": [
      "Accuracy (RandomForest): 0.9896373056994818\n",
      "Accuracy (Naive Bayes): 0.9896373056994818\n",
      "------------------------------------------------------------------------------------------\n",
      "Classification Report (RandomForest):\n",
      "                            precision    recall  f1-score   support\n",
      "\n",
      "                 Advocate       1.00      0.33      0.50         3\n",
      "                     Arts       1.00      1.00      1.00         6\n",
      "       Automation Testing       1.00      1.00      1.00         5\n",
      "               Blockchain       1.00      1.00      1.00         7\n",
      "         Business Analyst       1.00      1.00      1.00         4\n",
      "           Civil Engineer       1.00      1.00      1.00         9\n",
      "             Data Science       1.00      1.00      1.00         5\n",
      "                 Database       1.00      1.00      1.00         8\n",
      "          DevOps Engineer       1.00      1.00      1.00        14\n",
      "         DotNet Developer       1.00      1.00      1.00         5\n",
      "            ETL Developer       1.00      1.00      1.00         7\n",
      "   Electrical Engineering       1.00      1.00      1.00         6\n",
      "                       HR       0.86      1.00      0.92        12\n",
      "                   Hadoop       1.00      1.00      1.00         4\n",
      "       Health and fitness       1.00      1.00      1.00         7\n",
      "           Java Developer       1.00      1.00      1.00        15\n",
      "      Mechanical Engineer       1.00      1.00      1.00         8\n",
      "Network Security Engineer       1.00      1.00      1.00         3\n",
      "       Operations Manager       1.00      1.00      1.00        12\n",
      "                      PMO       1.00      1.00      1.00         7\n",
      "         Python Developer       1.00      1.00      1.00        10\n",
      "            SAP Developer       1.00      1.00      1.00         7\n",
      "                    Sales       1.00      1.00      1.00         8\n",
      "                  Testing       1.00      1.00      1.00        16\n",
      "            Web Designing       1.00      1.00      1.00         5\n",
      "\n",
      "                 accuracy                           0.99       193\n",
      "                macro avg       0.99      0.97      0.98       193\n",
      "             weighted avg       0.99      0.99      0.99       193\n",
      "\n",
      "------------------------------------------------------------------------------------------\n",
      "Classification Report (Naive Bayes):\n",
      "                            precision    recall  f1-score   support\n",
      "\n",
      "                 Advocate       1.00      1.00      1.00         3\n",
      "                     Arts       1.00      1.00      1.00         6\n",
      "       Automation Testing       1.00      1.00      1.00         5\n",
      "               Blockchain       1.00      1.00      1.00         7\n",
      "         Business Analyst       1.00      1.00      1.00         4\n",
      "           Civil Engineer       1.00      1.00      1.00         9\n",
      "             Data Science       1.00      1.00      1.00         5\n",
      "                 Database       1.00      1.00      1.00         8\n",
      "          DevOps Engineer       1.00      0.93      0.96        14\n",
      "         DotNet Developer       1.00      1.00      1.00         5\n",
      "            ETL Developer       1.00      1.00      1.00         7\n",
      "   Electrical Engineering       1.00      1.00      1.00         6\n",
      "                       HR       1.00      0.92      0.96        12\n",
      "                   Hadoop       1.00      1.00      1.00         4\n",
      "       Health and fitness       1.00      1.00      1.00         7\n",
      "           Java Developer       0.94      1.00      0.97        15\n",
      "      Mechanical Engineer       1.00      1.00      1.00         8\n",
      "Network Security Engineer       1.00      1.00      1.00         3\n",
      "       Operations Manager       1.00      1.00      1.00        12\n",
      "                      PMO       0.88      1.00      0.93         7\n",
      "         Python Developer       1.00      1.00      1.00        10\n",
      "            SAP Developer       1.00      1.00      1.00         7\n",
      "                    Sales       1.00      1.00      1.00         8\n",
      "                  Testing       1.00      1.00      1.00        16\n",
      "            Web Designing       1.00      1.00      1.00         5\n",
      "\n",
      "                 accuracy                           0.99       193\n",
      "                macro avg       0.99      0.99      0.99       193\n",
      "             weighted avg       0.99      0.99      0.99       193\n",
      "\n"
     ]
    }
   ],
   "source": [
    "accuracy_rf = accuracy_score(y_test, y_pred_rf)\n",
    "accuracy_nb = accuracy_score(y_test, y_pred_nb)\n",
    "print(f\"Accuracy (RandomForest): {accuracy_rf}\")\n",
    "print(f\"Accuracy (Naive Bayes): {accuracy_nb}\")\n",
    "\n",
    "print(90*'-')\n",
    "\n",
    "print(\"Classification Report (RandomForest):\\n\", classification_report(y_test, y_pred_rf))\n",
    "\n",
    "print(90*'-')\n",
    "\n",
    "print(\"Classification Report (Naive Bayes):\\n\", classification_report(y_test, y_pred_nb))\n"
   ]
  },
  {
   "cell_type": "code",
   "execution_count": 20,
   "id": "20ef23ab",
   "metadata": {},
   "outputs": [
    {
     "data": {
      "image/png": "[encoded data removed]",
      "text/plain": [
       "<Figure size 800x600 with 2 Axes>"
      ]
     },
     "metadata": {},
     "output_type": "display_data"
    }
   ],
   "source": [
    "plt.figure(figsize=(8,6))\n",
    "sns.heatmap(confusion_matrix(y_test, y_pred_rf), annot=True, fmt='d', cmap='Blues', xticklabels=rf_model.classes_, yticklabels=rf_model.classes_)\n",
    "plt.xlabel(\"Predicted\")\n",
    "plt.ylabel(\"Actual\")\n",
    "plt.title(\"Confusion Matrix - RandomForest\")\n",
    "plt.show()\n"
   ]
  },
  {
   "cell_type": "code",
   "execution_count": 21,
   "id": "a0096c7b",
   "metadata": {},
   "outputs": [],
   "source": [
    "def classify_resume(text, model):\n",
    "    processed_text = preprocess_text(text)\n",
    "    vectorized_text = vectorizer.transform([processed_text]).toarray()\n",
    "    prediction = model.predict(vectorized_text)\n",
    "    return prediction[0]\n"
   ]
  },
  {
   "cell_type": "code",
   "execution_count": 28,
   "id": "e826497f",
   "metadata": {},
   "outputs": [],
   "source": [
    "def classify_resume_ollama(text):\n",
    "    response = ollama.chat(model='mistral', messages=[{'role': 'user', 'content': f\"Classify this resume: {text}\"}])\n",
    "    return response['message']['content']\n"
   ]
  },
  {
   "cell_type": "code",
   "execution_count": 29,
   "id": "0196e2e2",
   "metadata": {},
   "outputs": [
    {
     "name": "stderr",
     "output_type": "stream",
     "text": [
      "\u001b[?25lpulling manifest â ‹ \u001b[?25h\u001b[?25l\u001b[2K\u001b[1Gpulling manifest â ¹ \u001b[?25h\u001b[?25l\u001b[2K\u001b[1Gpulling manifest â ¹ \u001b[?25h\u001b[?25l\u001b[2K\u001b[1Gpulling manifest â ¼ \u001b[?25h\u001b[?25l\u001b[2K\u001b[1Gpulling manifest â ´ \u001b[?25h\u001b[?25l\u001b[2K\u001b[1Gpulling manifest â ´ \u001b[?25h\u001b[?25l\u001b[2K\u001b[1Gpulling manifest â ¦ \u001b[?25h\u001b[?25l\u001b[2K\u001b[1Gpulling manifest â § \u001b[?25h\u001b[?25l\u001b[2K\u001b[1Gpulling manifest â ‡ \u001b[?25h\u001b[?25l\u001b[2K\u001b[1Gpulling manifest â � \u001b[?25h\u001b[?25l\u001b[2K\u001b[1Gpulling manifest \n",
      "pulling ff82381e2bea... 100% â–•â–ˆâ–ˆâ–ˆâ–ˆâ–ˆâ–ˆâ–ˆâ–ˆâ–ˆâ–ˆâ–ˆâ–ˆâ–ˆâ–ˆâ–ˆâ–ˆâ–� 4.1 GB                         \n",
      "pulling 43070e2d4e53... 100% â–•â–ˆâ–ˆâ–ˆâ–ˆâ–ˆâ–ˆâ–ˆâ–ˆâ–ˆâ–ˆâ–ˆâ–ˆâ–ˆâ–ˆâ–ˆâ–ˆâ–�  11 KB                         \n",
      "pulling 491dfa501e59... 100% â–•â–ˆâ–ˆâ–ˆâ–ˆâ–ˆâ–ˆâ–ˆâ–ˆâ–ˆâ–ˆâ–ˆâ–ˆâ–ˆâ–ˆâ–ˆâ–ˆâ–�  801 B                         \n",
      "pulling ed11eda7790d... 100% â–•â–ˆâ–ˆâ–ˆâ–ˆâ–ˆâ–ˆâ–ˆâ–ˆâ–ˆâ–ˆâ–ˆâ–ˆâ–ˆâ–ˆâ–ˆâ–ˆâ–�   30 B                         \n",
      "pulling 42347cd80dc8... 100% â–•â–ˆâ–ˆâ–ˆâ–ˆâ–ˆâ–ˆâ–ˆâ–ˆâ–ˆâ–ˆâ–ˆâ–ˆâ–ˆâ–ˆâ–ˆâ–ˆâ–�  485 B                         \n",
      "verifying sha256 digest \n",
      "writing manifest \n",
      "success \u001b[?25h\n"
     ]
    }
   ],
   "source": [
    "!ollama pull mistral\n"
   ]
  },
  {
   "cell_type": "code",
   "execution_count": 30,
   "id": "885de2a5",
   "metadata": {},
   "outputs": [
    {
     "name": "stdout",
     "output_type": "stream",
     "text": [
      "Predicted Category (RandomForest): Data Science\n",
      "------------------------------------------------------------------------------------------\n",
      "Predicted Category (Naive Bayes): Data Science\n",
      "------------------------------------------------------------------------------------------\n",
      "Predicted Category (Ollama LLM):  This resume fits into the category of a Data Scientist or Machine Learning Engineer role, given the skills mentioned are typically relevant to these positions. The candidate is an experienced Software Engineer, with a focus on areas like Python programming, machine learning, and data science.\n"
     ]
    }
   ],
   "source": [
    "example_resume = \"Experienced software engineer skilled in Python, machine learning, and data science.\"\n",
    "print(\"Predicted Category (RandomForest):\", classify_resume(example_resume, rf_model))\n",
    "print(90*'-')\n",
    "print(\"Predicted Category (Naive Bayes):\", classify_resume(example_resume, nb_model))\n",
    "print(90*'-')\n",
    "print(\"Predicted Category (Ollama LLM):\", classify_resume_ollama(example_resume))\n"
   ]
  },
  {
   "cell_type": "code",
   "execution_count": 33,
   "id": "258dc618",
   "metadata": {},
   "outputs": [
    {
     "name": "stdout",
     "output_type": "stream",
     "text": [
      "Collecting en-core-web-sm==3.8.0\n",
      "  Downloading https://github.com/explosion/spacy-models/releases/download/en_core_web_sm-3.8.0/en_core_web_sm-3.8.0-py3-none-any.whl (12.8 MB)\n",
      "     ---------------------------------------- 0.0/12.8 MB ? eta -:--:--\n",
      "      --------------------------------------- 0.3/12.8 MB ? eta -:--:--\n",
      "     -- ------------------------------------- 0.8/12.8 MB 2.4 MB/s eta 0:00:06\n",
      "     --- ------------------------------------ 1.0/12.8 MB 2.4 MB/s eta 0:00:05\n",
      "     ---- ----------------------------------- 1.6/12.8 MB 2.2 MB/s eta 0:00:06\n",
      "     ----- ---------------------------------- 1.8/12.8 MB 1.8 MB/s eta 0:00:07\n",
      "     ------ --------------------------------- 2.1/12.8 MB 1.9 MB/s eta 0:00:06\n",
      "     -------- ------------------------------- 2.6/12.8 MB 1.8 MB/s eta 0:00:06\n",
      "     --------- ------------------------------ 2.9/12.8 MB 1.8 MB/s eta 0:00:06\n",
      "     --------- ------------------------------ 3.1/12.8 MB 1.8 MB/s eta 0:00:06\n",
      "     ----------- ---------------------------- 3.7/12.8 MB 1.8 MB/s eta 0:00:06\n",
      "     ------------- -------------------------- 4.2/12.8 MB 1.8 MB/s eta 0:00:05\n",
      "     ------------- -------------------------- 4.5/12.8 MB 1.8 MB/s eta 0:00:05\n",
      "     -------------- ------------------------- 4.7/12.8 MB 1.7 MB/s eta 0:00:05\n",
      "     --------------- ------------------------ 5.0/12.8 MB 1.7 MB/s eta 0:00:05\n",
      "     ---------------- ----------------------- 5.2/12.8 MB 1.7 MB/s eta 0:00:05\n",
      "     ------------------ --------------------- 5.8/12.8 MB 1.7 MB/s eta 0:00:05\n",
      "     ------------------ --------------------- 6.0/12.8 MB 1.7 MB/s eta 0:00:04\n",
      "     ------------------- -------------------- 6.3/12.8 MB 1.7 MB/s eta 0:00:04\n",
      "     -------------------- ------------------- 6.6/12.8 MB 1.7 MB/s eta 0:00:04\n",
      "     ---------------------- ----------------- 7.1/12.8 MB 1.7 MB/s eta 0:00:04\n",
      "     ----------------------- ---------------- 7.6/12.8 MB 1.7 MB/s eta 0:00:04\n",
      "     ------------------------ --------------- 7.9/12.8 MB 1.7 MB/s eta 0:00:03\n",
      "     -------------------------- ------------- 8.4/12.8 MB 1.7 MB/s eta 0:00:03\n",
      "     --------------------------- ------------ 8.7/12.8 MB 1.7 MB/s eta 0:00:03\n",
      "     ---------------------------- ----------- 9.2/12.8 MB 1.7 MB/s eta 0:00:03\n",
      "     ----------------------------- ---------- 9.4/12.8 MB 1.7 MB/s eta 0:00:02\n",
      "     ------------------------------ --------- 9.7/12.8 MB 1.7 MB/s eta 0:00:02\n",
      "     ------------------------------- -------- 10.0/12.8 MB 1.7 MB/s eta 0:00:02\n",
      "     -------------------------------- ------- 10.5/12.8 MB 1.7 MB/s eta 0:00:02\n",
      "     ---------------------------------- ----- 11.0/12.8 MB 1.7 MB/s eta 0:00:02\n",
      "     ----------------------------------- ---- 11.3/12.8 MB 1.7 MB/s eta 0:00:01\n",
      "     ------------------------------------ --- 11.5/12.8 MB 1.7 MB/s eta 0:00:01\n",
      "     ------------------------------------- -- 12.1/12.8 MB 1.7 MB/s eta 0:00:01\n",
      "     -------------------------------------- - 12.3/12.8 MB 1.7 MB/s eta 0:00:01\n",
      "     ---------------------------------------  12.6/12.8 MB 1.7 MB/s eta 0:00:01\n",
      "     ---------------------------------------- 12.8/12.8 MB 1.7 MB/s eta 0:00:00\n",
      "Installing collected packages: en-core-web-sm\n",
      "Successfully installed en-core-web-sm-3.8.0\n",
      "\u001b[38;5;2m[+] Download and installation successful\u001b[0m\n",
      "You can now load the package via spacy.load('en_core_web_sm')\n"
     ]
    },
    {
     "name": "stderr",
     "output_type": "stream",
     "text": [
      "\n",
      "[notice] A new release of pip is available: 25.0 -> 25.0.1\n",
      "[notice] To update, run: python.exe -m pip install --upgrade pip\n"
     ]
    }
   ],
   "source": [
    "!python -m spacy download en_core_web_sm\n"
   ]
  },
  {
   "cell_type": "code",
   "execution_count": 39,
   "id": "669b7eff",
   "metadata": {},
   "outputs": [
    {
     "name": "stderr",
     "output_type": "stream",
     "text": [
      "List Trainer: 1924it [00:06, 308.51it/s]\n"
     ]
    }
   ],
   "source": [
    "from chatterbot import ChatBot\n",
    "from chatterbot.trainers import ListTrainer\n",
    "\n",
    "\n",
    "chatbot = ChatBot(\"ResumeBot\")\n",
    "trainer = ListTrainer(chatbot)\n",
    "\n",
    "conversation_data = []\n",
    "for index, row in df.iterrows():\n",
    "    conversation_data.append(f\"What skills are required for {row['Category']}?\")\n",
    "    conversation_data.append(row['Resume'][:200] + \"...\")  # Using a snippet to avoid long responses\n",
    "\n",
    "trainer.train(conversation_data)\n",
    "\n",
    "def chat_with_bot():\n",
    "    print(\"Chat with ResumeBot (type 'exit' to stop):\")\n",
    "    while True:\n",
    "        user_input = input(\"You: \")\n",
    "        if user_input.lower() == 'exit':\n",
    "            break\n",
    "        response_chatbot = chatbot.get_response(user_input)\n",
    "        response_ollama = classify_resume_ollama(user_input)\n",
    "        print(\"ResumeBot (ChatterBot):\", response_chatbot)\n",
    "        print(\"ResumeBot (Ollama):\", response_ollama)"
   ]
  },
  {
   "cell_type": "code",
   "execution_count": null,
   "id": "9e89ea7c",
   "metadata": {},
   "outputs": [
    {
     "name": "stdout",
     "output_type": "stream",
     "text": [
      "Chat with ResumeBot (type 'exit' to stop):\n",
      "You: how i make my resume \n",
      "ResumeBot (ChatterBot): Well, I don't have any emotions so I can't really feel sadness as such.\n",
      "ResumeBot (Ollama):  This question does not provide a specific resume to classify, but I can give you general advice on making a resume effective. Here are some tips for structuring and formatting your resume:\n",
      "\n",
      "1. Contact Information: Include your name, phone number, email address, and LinkedIn profile (if applicable) at the top of the document.\n",
      "\n",
      "2. Summary Statement: Write a brief summary statement that highlights your professional skills, experiences, and career goals. Keep it concise (3-5 lines).\n",
      "\n",
      "3. Work Experience: List your work experience in reverse chronological order, starting with the most recent position. Include the company name, job title, location, employment dates, and a bullet list of key responsibilities, achievements, and skills related to the role.\n",
      "\n",
      "4. Education: List your educational background below your work experience. Include the school name, degree earned, major (if applicable), and graduation date. If you have relevant coursework or projects, feel free to mention them as well.\n",
      "\n",
      "5. Skills: Create a separate section for your hard skills, such as software proficiencies, programming languages, certifications, etc. You can also include any relevant soft skills (communication, leadership, problem-solving, etc.) that are applicable to the job you're applying for.\n",
      "\n",
      "6. Optional Sections: If you have any additional qualifications or experiences that would be beneficial, consider adding sections like Certifications, Awards, Publications, Languages, or Volunteer Work.\n",
      "\n",
      "7. Formatting: Use a simple and professional font (e.g., Arial, Calibri, or Times New Roman). Keep the formatting consistent throughout the document. Bullet points can make your resume easier to read and help emphasize important information.\n",
      "\n",
      "8. Tailoring Your Resume: Make sure to tailor your resume for each job application by emphasizing relevant skills and experiences that match the job description.\n",
      "\n",
      "9. Length: Aim for a one-page resume if you have less than 10 years of experience. If you have more experience, it's acceptable to extend your resume to two pages.\n",
      "\n",
      "10. Proofreading: Double-check for any grammar or spelling errors before submitting your resume. It's also a good idea to ask someone else to review your resume for clarity and readability.\n",
      "You: What should I include in my resume?\n",
      "ResumeBot (ChatterBot): What should I include in my resume?\n",
      "ResumeBot (Ollama): 1. Contact Information: Provide your full name, email address, phone number, and LinkedIn profile if you have one.\n",
      "\n",
      "2. Professional Summary or Objective: A brief statement that highlights your skills, experiences, and career goals. This helps recruiters understand your suitability for the job.\n",
      "\n",
      "3. Work Experience: List your work experience in reverse chronological order, starting with the most recent. Include the name of the company, your role, the dates you worked there, and a list of responsibilities and achievements.\n",
      "\n",
      "4. Education: Your educational background is also important. List the degrees you've earned, the institution(s) where you received them, and the dates. If you have relevant coursework or projects, these can be included as well.\n",
      "\n",
      "5. Skills: A section that highlights your key skills related to the job you're applying for. These could be technical skills, soft skills, or industry-specific skills.\n",
      "\n",
      "6. Certifications (if any): If you have any professional certifications that are relevant to the job, include them here.\n",
      "\n",
      "7. Awards and Achievements: Any awards, recognitions, or notable achievements that demonstrate your abilities and potential value to an employer.\n",
      "\n",
      "8. Volunteer Work or Internships: If you have relevant volunteer work or internships, these can be included to show your enthusiasm and commitment in the field.\n",
      "\n",
      "9. References: While not always necessary to include references on a resume, it's good to have them available upon request. You could simply write \"References available upon request.\"\n",
      "\n",
      "10. Formatting and Design: Keep your resume clean and easy to read. Use bullet points, headings, and white space effectively. Make sure your resume is visually appealing but not distracting.\n",
      "\n",
      "11. Customization: Tailor your resume to the specific job you're applying for by highlighting relevant skills and experiences.\n",
      "You: \n"
     ]
    },
    {
     "name": "stderr",
     "output_type": "stream",
     "text": [
      "C:\\Users\\sumit\\anaconda3\\Lib\\site-packages\\chatterbot\\storage\\sql_storage.py:245: SAWarning: Object of type <Statement> not in session, add operation along 'Tag.statements' won't proceed (This warning originated from the Session 'autoflush' process, which was invoked automatically in response to a user-initiated operation.)\n",
      "  tag = session.query(Tag).filter_by(name=tag_name).first()\n"
     ]
    },
    {
     "name": "stdout",
     "output_type": "stream",
     "text": [
      "ResumeBot (ChatterBot): What is AI?\n",
      "ResumeBot (Ollama):  Based on the information provided in the text, I would classify this resume as a Professional Resume. Here's why:\n",
      "\n",
      "1. The format is clean and easy to read, with a professional font and clear section headings.\n",
      "2. The applicant lists their relevant work experience in reverse chronological order (most recent first), which is the standard format for a professional resume.\n",
      "3. The applicant provides specific details about their achievements and responsibilities in each job, rather than simply listing duties. This shows that they have a strong understanding of the roles they've held and can demonstrate the impact they've made in those positions.\n",
      "4. The resume includes a summary section, where the applicant briefly discusses their skills and qualifications, which is another common feature of professional resumes.\n",
      "5. The applicant includes relevant keywords related to their industry (e.g., \"project management,\" \"strategic planning,\" \"team leadership\"). This shows that they understand the language commonly used in their field and are familiar with the requirements for the positions they're applying for.\n",
      "6. The resume is free of errors, which is essential for a professional document.\n",
      "7. The applicant includes a tailored cover letter, addressing the specific job they're applying for and discussing how their skills align with the needs of the position and company.\n",
      "8. The resume concludes with a list of references, demonstrating that the applicant takes their application seriously and is prepared to provide professional recommendations if requested.\n",
      "\n",
      "Overall, this resume effectively showcases the applicant's professional qualifications, skills, and achievements in a clear and concise manner, making it a strong example of a Professional Resume.\n",
      "You: What are some common mistakes people make when writing resumes?\n",
      "ResumeBot (ChatterBot): Python.\n",
      "ResumeBot (Ollama): 1. Incorrect Formatting and Layout: A sloppy or inconsistent layout can distract the recruiter from focusing on your qualifications. Make sure your resume is visually appealing, easy to read, and follows a consistent format.\n",
      "\n",
      "2. Using an Objective Statement Instead of a Professional Summary: A summary provides a brief overview of your career goals, skills, and relevant experiences, while an objective statement focuses on the job you're applying for. A professional summary is more versatile and can be tailored to each job application.\n",
      "\n",
      "3. Not Tailoring the Resume for Each Job Application: Your resume should be customized for every job application to show how your skills and experiences align with the specific job requirements.\n",
      "\n",
      "4. Incorrect or Outdated Contact Information: Ensure that your contact information is up-to-date, including your email address and phone number.\n",
      "\n",
      "5. Using Industry Jargon Instead of Clear Language: Recruiters want to understand your qualifications quickly. Avoid using too much industry jargon; instead, use clear and concise language to explain your experiences and skills.\n",
      "\n",
      "6. Failing to Quantify Achievements: When possible, use numbers and metrics to demonstrate the impact you've made in previous roles. This helps recruiters understand the scale of your achievements.\n",
      "\n",
      "7. Omitting Relevant Keywords: Many applicant tracking systems (ATS) scan resumes for certain keywords related to the job. Make sure to include relevant keywords from the job description in your resume.\n",
      "\n",
      "8. Using a Generic Resume: A one-size-fits-all resume doesn't showcase your unique qualifications and experiences effectively. Tailor your resume to each job application to increase your chances of getting noticed.\n",
      "\n",
      "9. Incorrect Use of Action Verbs: Starting each bullet point with strong action verbs helps convey your initiative and can make your resume more impactful. For example, instead of writing \"Responsible for...\", write \"Managed...\" or \"Implemented...\"\n",
      "\n",
      "10. Listing Irrelevant Information: Keep your resume focused on relevant information that supports your qualifications for the job. This may include education, work experience, skills, and achievements. Avoid including irrelevant personal details like marital status, age, or political affiliations.\n"
     ]
    }
   ],
   "source": [
    "chat_with_bot()\n"
   ]
  },
  {
   "cell_type": "code",
   "execution_count": null,
   "id": "c76186c6",
   "metadata": {},
   "outputs": [],
   "source": []
  }
 ],
 "metadata": {
  "kernelspec": {
   "display_name": "Python 3 (ipykernel)",
   "language": "python",
   "name": "python3"
  },
  "language_info": {
   "codemirror_mode": {
    "name": "ipython",
    "version": 3
   },
   "file_extension": ".py",
   "mimetype": "text/x-python",
   "name": "python",
   "nbconvert_exporter": "python",
   "pygments_lexer": "ipython3",
   "version": "3.11.7"
  }
 },
 "nbformat": 4,
 "nbformat_minor": 5
}
